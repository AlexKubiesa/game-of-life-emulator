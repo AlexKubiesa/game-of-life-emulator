{
 "cells": [
  {
   "attachments": {},
   "cell_type": "markdown",
   "metadata": {},
   "source": [
    "# Training cell predictor\n",
    "\n",
    "In this notebook, we train a model to predict a cell's next state based on its current state and that of its neighbours."
   ]
  },
  {
   "cell_type": "code",
   "execution_count": null,
   "metadata": {},
   "outputs": [],
   "source": [
    "import torch\n",
    "from torch import nn\n",
    "from torch.utils.data import DataLoader\n",
    "import numpy as np\n",
    "import torch.nn.functional as F\n",
    "import matplotlib.pyplot as plt"
   ]
  },
  {
   "cell_type": "code",
   "execution_count": null,
   "metadata": {},
   "outputs": [],
   "source": [
    "class GameOfLifeDataset(torch.utils.data.Dataset):\n",
    "    _size = 512\n",
    "\n",
    "    def __init__(self):\n",
    "        pass\n",
    "\n",
    "    def __len__(self):\n",
    "        return self._size\n",
    "\n",
    "    def __getitem__(self, idx):\n",
    "        # 12 -> \"0b1100\" -> \"1100\" -> \"000001100\"\n",
    "        idx_bin = bin(idx)[2:].rjust(9, \"0\")\n",
    "        X = torch.tensor([float(ch) for ch in idx_bin], dtype=torch.float32).reshape(1, 3, 3) # (channels, width, height)\n",
    "        alive = X[0, 1, 1] > 0.5\n",
    "        alive_neighbours = torch.sum(X) - X[0, 1, 1]\n",
    "        next_alive = (alive and alive_neighbours > 1.5 and alive_neighbours < 3.5) or (not alive and alive_neighbours > 2.5 and alive_neighbours < 3.5)\n",
    "        y = torch.tensor([float(next_alive)], dtype=torch.float32)\n",
    "        return X, y"
   ]
  },
  {
   "cell_type": "code",
   "execution_count": null,
   "metadata": {},
   "outputs": [],
   "source": [
    "from torch.utils.data import DataLoader\n",
    "\n",
    "dataset = GameOfLifeDataset()\n",
    "dataloader = DataLoader(dataset, batch_size=4, shuffle=True)"
   ]
  },
  {
   "cell_type": "code",
   "execution_count": null,
   "metadata": {},
   "outputs": [],
   "source": [
    "device = (\n",
    "    \"cuda\"\n",
    "    if torch.cuda.is_available()\n",
    "    else \"mps\"\n",
    "    if torch.backends.mps.is_available()\n",
    "    else \"cpu\"\n",
    ")\n",
    "print(f\"Using {device} device\")"
   ]
  },
  {
   "cell_type": "code",
   "execution_count": null,
   "metadata": {},
   "outputs": [],
   "source": [
    "class CellPredictorNeuralNetwork(nn.Module):\n",
    "    \"\"\"Predicts the next state of the cells.\n",
    "\n",
    "    Inputs:\n",
    "        x: Tensor of shape (batch_size, channels, width, height), where channels=1, width=3 and height=3.\n",
    "    \n",
    "    Returns: Tensor of shape (batch_size,), the logits of the predicted states.\n",
    "    \"\"\"\n",
    "\n",
    "    def __init__(self):\n",
    "        super().__init__()\n",
    "        self.conv = nn.Conv2d(1, 85, 3)\n",
    "        self.linear1 = nn.Linear(85, 10)\n",
    "        self.linear2 = nn.Linear(10, 1)\n",
    "\n",
    "    def forward(self, x):\n",
    "        x = F.relu(self.conv(x))\n",
    "        x = torch.flatten(x, 1)\n",
    "        x = F.relu(self.linear1(x))\n",
    "        logits = self.linear2(x)\n",
    "        return logits"
   ]
  },
  {
   "cell_type": "code",
   "execution_count": null,
   "metadata": {},
   "outputs": [],
   "source": [
    "model = CellPredictorNeuralNetwork().to(device)\n",
    "print(model)"
   ]
  },
  {
   "cell_type": "code",
   "execution_count": null,
   "metadata": {},
   "outputs": [],
   "source": [
    "X, y = next(iter(dataloader))\n",
    "logits = model(X)[0]\n",
    "pred_probab = F.sigmoid(logits)\n",
    "y_pred = int(pred_probab > 0.5)\n",
    "print(f\"Predicted state: {y_pred}\")"
   ]
  },
  {
   "cell_type": "code",
   "execution_count": null,
   "metadata": {},
   "outputs": [],
   "source": [
    "print(f\"Model structure: {model}\\n\\n\")\n",
    "\n",
    "for name, param in model.named_parameters():\n",
    "    print(f\"Layer: {name} | Size: {param.size()} | Values : {param[:2]} \\n\")"
   ]
  },
  {
   "cell_type": "code",
   "execution_count": null,
   "metadata": {},
   "outputs": [],
   "source": [
    "def train_loop(dataloader, model, loss_fn, optimizer):\n",
    "    avg_loss = 0.0\n",
    "\n",
    "    size = len(dataloader.dataset)\n",
    "    for batch, (X, y) in enumerate(dataloader):\n",
    "\n",
    "        # Compute prediction and loss\n",
    "        pred = model(X)\n",
    "        loss = loss_fn(pred, y)\n",
    "\n",
    "        # Backpropagation\n",
    "        optimizer.zero_grad()\n",
    "        loss.backward()\n",
    "        optimizer.step()\n",
    "\n",
    "        avg_loss += loss.item()\n",
    "\n",
    "        if batch % 30 == 0:\n",
    "            loss, current = loss.item(), (batch + 1) * len(X)\n",
    "            print(f\"loss: {loss:>7f}  [{current:>5d}/{size:>5d}]\")\n",
    "    \n",
    "    avg_loss /= size\n",
    "    return avg_loss\n",
    "\n",
    "\n",
    "def test_loop(dataloader, model, loss_fn):\n",
    "    size = len(dataloader.dataset)\n",
    "    num_batches = len(dataloader)\n",
    "    test_loss, correct = 0, 0\n",
    "\n",
    "    with torch.no_grad():\n",
    "        for X, y in dataloader:\n",
    "            pred = model(X)\n",
    "            test_loss += loss_fn(pred, y).item()\n",
    "            prob = F.sigmoid(pred)\n",
    "            correct += ((prob > 0.5).type(torch.float) == y).type(torch.float).sum().item()\n",
    "\n",
    "    test_loss /= num_batches\n",
    "    correct /= size\n",
    "    print(f\"Test Error: \\n Accuracy: {(100*correct):>0.1f}%, Avg loss: {test_loss:>8f} \\n\")\n",
    "    return test_loss, correct"
   ]
  },
  {
   "cell_type": "code",
   "execution_count": null,
   "metadata": {},
   "outputs": [],
   "source": [
    "learning_rates = [1e-3, 1e-2, 1e-1, 2e-1]\n",
    "repeats = len(learning_rates)\n",
    "batch_size = 4\n",
    "epochs = 10\n",
    "\n",
    "fig, axs = plt.subplots(2, 2, figsize=(15, 10))\n",
    "((ax_loss, ax_test_loss), (ax_test_acc, _)) = axs\n",
    "ax_loss.set_title(f\"Training loss\")\n",
    "ax_loss.set_xlabel(\"epoch\")\n",
    "ax_loss.set_ylabel(\"loss\")\n",
    "ax_test_loss.set_title(f\"Test loss\")\n",
    "ax_test_loss.set_xlabel(\"epoch\")\n",
    "ax_test_loss.set_ylabel(\"test loss\")\n",
    "ax_test_acc.set_title(f\"Test accuracy\")\n",
    "ax_test_acc.set_xlabel(\"epoch\")\n",
    "ax_test_acc.set_ylabel(\"test accuracy\")\n",
    "\n",
    "for r in range(repeats):\n",
    "    loss_fn = nn.BCEWithLogitsLoss()\n",
    "    optimizer = torch.optim.SGD(model.parameters(), lr=learning_rates[r])\n",
    "\n",
    "    loss_history = []\n",
    "    test_loss_history = []\n",
    "    test_acc_history = []\n",
    "\n",
    "    for t in range(epochs):\n",
    "        print(f\"Repeat {r+1}, Epoch {t+1}\\n------------------------------------------\")\n",
    "        # Since our dataset represents the full set of possible states, we can safely use it for both training and testing\n",
    "        epoch_loss = train_loop(dataloader, model, loss_fn, optimizer)\n",
    "        loss_history.append(epoch_loss)\n",
    "        test_loss, test_acc = test_loop(dataloader, model, loss_fn)\n",
    "        test_loss_history.append(test_loss)\n",
    "        test_acc_history.append(test_acc)\n",
    "\n",
    "    ax_loss.plot(loss_history, label=f\"Learning rate = {learning_rates[r]}\")\n",
    "    ax_test_loss.plot(test_loss_history, label=f\"Learning rate = {learning_rates[r]}\")\n",
    "    ax_test_acc.plot(test_acc_history, label=f\"Learning rate = {learning_rates[r]}\")\n",
    "    print(\"Done!\")\n",
    "    \n",
    "for ax in axs.flatten():\n",
    "    ax.legend()\n",
    "plt.plot()"
   ]
  },
  {
   "attachments": {},
   "cell_type": "markdown",
   "metadata": {},
   "source": [
    "# Conclusion\n",
    "\n",
    "We can clearly see that using a much more aggressive learning rate of 0.1 or 0.2 as opposed to 0.001 is beneficial. However, the key insight from this experiment was that the test accuracy calculation had a bug in it which meant the reported accuracy was much lower than the actual accuracy. One this bug was fixed, it became clear that even with a learning rate of 0.001, the model achieves 100% accuracy very quickly."
   ]
  },
  {
   "attachments": {},
   "cell_type": "markdown",
   "metadata": {},
   "source": []
  }
 ],
 "metadata": {
  "kernelspec": {
   "display_name": "venv",
   "language": "python",
   "name": "python3"
  },
  "language_info": {
   "codemirror_mode": {
    "name": "ipython",
    "version": 3
   },
   "file_extension": ".py",
   "mimetype": "text/x-python",
   "name": "python",
   "nbconvert_exporter": "python",
   "pygments_lexer": "ipython3",
   "version": "3.10.7"
  },
  "orig_nbformat": 4
 },
 "nbformat": 4,
 "nbformat_minor": 2
}
